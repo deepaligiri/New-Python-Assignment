{
  "nbformat": 4,
  "nbformat_minor": 0,
  "metadata": {
    "colab": {
      "provenance": []
    },
    "kernelspec": {
      "name": "python3",
      "display_name": "Python 3"
    },
    "language_info": {
      "name": "python"
    }
  },
  "cells": [
    {
      "cell_type": "code",
      "execution_count": null,
      "metadata": {
        "id": "597-KeQoXuI6"
      },
      "outputs": [],
      "source": [
        "#1. What exactly is []?\n",
        "#Ans : - [ ] is a empty list, like a =[ ]"
      ]
    },
    {
      "cell_type": "code",
      "source": [
        "#2. In a list of values stored in a variable called spam, how would you assign the value 'hello' as the third value? \n",
        "#(Assume [2, 4, 6, 8, 10] are in spam.)\n",
        "#Ans - solution by changing the value in index 3\n",
        "spam = [2, 4, 6, 8, 10]\n",
        "spam[2] = 'hello'\n",
        "spam"
      ],
      "metadata": {
        "colab": {
          "base_uri": "https://localhost:8080/"
        },
        "id": "CFdM6cBKYAds",
        "outputId": "bc511694-21f3-4831-af65-7d7d792b1d16"
      },
      "execution_count": 1,
      "outputs": [
        {
          "output_type": "execute_result",
          "data": {
            "text/plain": [
              "[2, 4, 'hello', 8, 10]"
            ]
          },
          "metadata": {},
          "execution_count": 1
        }
      ]
    },
    {
      "cell_type": "code",
      "source": [
        "#Let's pretend the spam includes the list ['a', 'b', 'c', 'd'] for the next three queries.\n",
        "#3. What is the value of spam[int(int('3' * 2) / 11)]?\n",
        "#Ans - \n",
        "spam = ['a', 'b','c','d']\n",
        "spam[int(int('3' * 2) / 11)] # spam[int(33/11)] = spam[3]"
      ],
      "metadata": {
        "colab": {
          "base_uri": "https://localhost:8080/",
          "height": 35
        },
        "id": "kgwDrxTsYOE4",
        "outputId": "ffdbef6a-d23f-4a98-f758-fe8ae02decd2"
      },
      "execution_count": 2,
      "outputs": [
        {
          "output_type": "execute_result",
          "data": {
            "text/plain": [
              "'d'"
            ],
            "application/vnd.google.colaboratory.intrinsic+json": {
              "type": "string"
            }
          },
          "metadata": {},
          "execution_count": 2
        }
      ]
    },
    {
      "cell_type": "code",
      "source": [
        "#4. What is the value of spam[-1]?\n",
        "#ans - \n",
        "spam[-1]# negative index # d"
      ],
      "metadata": {
        "colab": {
          "base_uri": "https://localhost:8080/",
          "height": 35
        },
        "id": "8AqEz4fRYlad",
        "outputId": "58a77a26-0668-43a7-9a5a-52662296052b"
      },
      "execution_count": 3,
      "outputs": [
        {
          "output_type": "execute_result",
          "data": {
            "text/plain": [
              "'d'"
            ],
            "application/vnd.google.colaboratory.intrinsic+json": {
              "type": "string"
            }
          },
          "metadata": {},
          "execution_count": 3
        }
      ]
    },
    {
      "cell_type": "code",
      "source": [
        "#5. What is the value of spam[:2]?\n",
        "spam[:2]"
      ],
      "metadata": {
        "colab": {
          "base_uri": "https://localhost:8080/"
        },
        "id": "vKKU4q5TYrkH",
        "outputId": "265dfd70-f993-420a-d188-4b91499ca5c0"
      },
      "execution_count": 4,
      "outputs": [
        {
          "output_type": "execute_result",
          "data": {
            "text/plain": [
              "['a', 'b']"
            ]
          },
          "metadata": {},
          "execution_count": 4
        }
      ]
    },
    {
      "cell_type": "code",
      "source": [
        "#Let's pretend bacon has the list [3.14, 'cat,' 11, 'cat,' True] for the next three questions."
      ],
      "metadata": {
        "id": "krBC3Q8xYxuD"
      },
      "execution_count": null,
      "outputs": []
    },
    {
      "cell_type": "code",
      "source": [
        "#6. What is the value of bacon.index('cat')?\n",
        "bacon= [3.14, 'cat', 11, 'cat',True]\n",
        "bacon.index('cat')# it returns the index of first occurrence of 'cat'"
      ],
      "metadata": {
        "colab": {
          "base_uri": "https://localhost:8080/"
        },
        "id": "mcvvpNX_Y3nG",
        "outputId": "fecd762c-e25f-4c9d-ef26-a02fb8d89573"
      },
      "execution_count": 10,
      "outputs": [
        {
          "output_type": "execute_result",
          "data": {
            "text/plain": [
              "1"
            ]
          },
          "metadata": {},
          "execution_count": 10
        }
      ]
    },
    {
      "cell_type": "code",
      "source": [
        "#7. How does bacon.append(99) change the look of the list value in bacon?\n",
        "bacon.append(99)# append adds the item at the end of the list\n",
        "bacon"
      ],
      "metadata": {
        "colab": {
          "base_uri": "https://localhost:8080/"
        },
        "id": "Sasp_oTNZAEH",
        "outputId": "04527bde-f288-4ca4-ffc4-dd1160951b78"
      },
      "execution_count": 11,
      "outputs": [
        {
          "output_type": "execute_result",
          "data": {
            "text/plain": [
              "[3.14, 'cat', 11, 'cat', True, 99]"
            ]
          },
          "metadata": {},
          "execution_count": 11
        }
      ]
    },
    {
      "cell_type": "code",
      "source": [
        "#8. How does bacon.remove('cat') change the look of the list in bacon?\n",
        "bacon.remove('cat')# remove first occurrence of item\n",
        "bacon"
      ],
      "metadata": {
        "colab": {
          "base_uri": "https://localhost:8080/"
        },
        "id": "njzkLJbxZYq8",
        "outputId": "fe95632f-6d6f-4165-f645-07f76f6ca7b7"
      },
      "execution_count": 12,
      "outputs": [
        {
          "output_type": "execute_result",
          "data": {
            "text/plain": [
              "[3.14, 11, 'cat', True, 99]"
            ]
          },
          "metadata": {},
          "execution_count": 12
        }
      ]
    },
    {
      "cell_type": "code",
      "source": [
        "#9. What are the list concatenation and list replication operators?\n",
        "#Ans - ( * ) is list replication operator ( + ) is list concatination operator\n",
        "\n",
        "l1 = [1,4]\n",
        "l2 = [2,5]\n",
        "# list concatination\n",
        "l1+l2\n"
      ],
      "metadata": {
        "colab": {
          "base_uri": "https://localhost:8080/"
        },
        "id": "tI__dxSQZlr-",
        "outputId": "87fe99b1-1b0b-4804-a1a9-8bea25f26f6e"
      },
      "execution_count": 13,
      "outputs": [
        {
          "output_type": "execute_result",
          "data": {
            "text/plain": [
              "[1, 4, 2, 5]"
            ]
          },
          "metadata": {},
          "execution_count": 13
        }
      ]
    },
    {
      "cell_type": "code",
      "source": [
        "l1 = [7,4]\n",
        "\n",
        "# list replication\n",
        "l1*3"
      ],
      "metadata": {
        "colab": {
          "base_uri": "https://localhost:8080/"
        },
        "id": "2N3nBLpuZ1SC",
        "outputId": "574e719d-27ac-4e79-d0af-442bdc510250"
      },
      "execution_count": 14,
      "outputs": [
        {
          "output_type": "execute_result",
          "data": {
            "text/plain": [
              "[7, 4, 7, 4, 7, 4]"
            ]
          },
          "metadata": {},
          "execution_count": 14
        }
      ]
    },
    {
      "cell_type": "code",
      "source": [
        "#10. What is difference between the list methods append() and insert()?\n",
        "#ans - \n",
        "append() Appends object to the end of the list\n",
        "insert() Insert object before index"
      ],
      "metadata": {
        "id": "XGxIPY_UZ4GO"
      },
      "execution_count": null,
      "outputs": []
    },
    {
      "cell_type": "code",
      "source": [
        "bacon = [3.14, 'cat', 11, 'cat', True]\n",
        "bacon.append(99) # append adds the item at the end of the list\n",
        "bacon"
      ],
      "metadata": {
        "colab": {
          "base_uri": "https://localhost:8080/"
        },
        "id": "SsyJS87aaBV4",
        "outputId": "ce4d5c09-c3bb-4fa6-de00-941f73ef037f"
      },
      "execution_count": 15,
      "outputs": [
        {
          "output_type": "execute_result",
          "data": {
            "text/plain": [
              "[3.14, 'cat', 11, 'cat', True, 99]"
            ]
          },
          "metadata": {},
          "execution_count": 15
        }
      ]
    },
    {
      "cell_type": "code",
      "source": [
        "# solution by inserting value in 3rd index\n",
        "spam = [2, 4, 6, 8, 10]\n",
        "spam.insert(2,'hello')\n",
        "spam"
      ],
      "metadata": {
        "colab": {
          "base_uri": "https://localhost:8080/"
        },
        "id": "5XlUNJasaBwN",
        "outputId": "9b9ae85b-28d0-4fa2-a9cd-1f98abddd097"
      },
      "execution_count": 16,
      "outputs": [
        {
          "output_type": "execute_result",
          "data": {
            "text/plain": [
              "[2, 4, 'hello', 6, 8, 10]"
            ]
          },
          "metadata": {},
          "execution_count": 16
        }
      ]
    },
    {
      "cell_type": "code",
      "source": [
        "#11. What are the two methods for removing items from a list?\n",
        "#ans - \n",
        "#remove(item) - removeds first occurence of a item\n",
        "bacon = [3.14, 'cat', 11, 'cat', True]\n",
        "bacon.remove('cat')\n",
        "bacon"
      ],
      "metadata": {
        "colab": {
          "base_uri": "https://localhost:8080/"
        },
        "id": "IzA99OkfaE7R",
        "outputId": "b72aba64-6413-468f-d2ab-450e387b21c5"
      },
      "execution_count": 17,
      "outputs": [
        {
          "output_type": "execute_result",
          "data": {
            "text/plain": [
              "[3.14, 11, 'cat', True]"
            ]
          },
          "metadata": {},
          "execution_count": 17
        }
      ]
    },
    {
      "cell_type": "code",
      "source": [
        "#pop() - Remove and returns item at index (default last).\n",
        "bacon = [3.14, 'cat', 11, 'cat', True]\n",
        "bacon.pop(1)\n",
        "bacon"
      ],
      "metadata": {
        "colab": {
          "base_uri": "https://localhost:8080/"
        },
        "id": "WJAKOXPZaNan",
        "outputId": "899e50e8-3b92-4b19-a92c-50bff98e3547"
      },
      "execution_count": 18,
      "outputs": [
        {
          "output_type": "execute_result",
          "data": {
            "text/plain": [
              "[3.14, 11, 'cat', True]"
            ]
          },
          "metadata": {},
          "execution_count": 18
        }
      ]
    },
    {
      "cell_type": "code",
      "source": [
        "#12. Describe how list values and string values are identical.\n",
        "#ans - \n",
        "1. Both lists and strings can be passed to len()\n",
        "2. Have indexes and slices\n",
        "3. Can be used in for loops\n",
        "4. Can be concatenated or replicated\n",
        "5. Can be used with the in and not in operators"
      ],
      "metadata": {
        "id": "EV4uBR3TaX6u"
      },
      "execution_count": null,
      "outputs": []
    },
    {
      "cell_type": "code",
      "source": [
        "#13. What's the difference between tuples and lists?\n",
        "#Ans - \n",
        "Lists : are mutable - they can have values added, removed, or changed. lists use the square brackets, \"[ ]\"\n",
        "Tuples : are immutable; they cannot be changed at all. Tuples are written using parentheses, \"( )\""
      ],
      "metadata": {
        "id": "DypY_hlHarUi"
      },
      "execution_count": null,
      "outputs": []
    },
    {
      "cell_type": "code",
      "source": [
        "#14. How do you type a tuple value that only contains the integer 42?\n",
        "#ans - \n",
        "a=(42)\n",
        "a"
      ],
      "metadata": {
        "colab": {
          "base_uri": "https://localhost:8080/"
        },
        "id": "Y-1tGhK_a3ka",
        "outputId": "100e3302-a434-45c2-82b1-a8e6503c8b9c"
      },
      "execution_count": 20,
      "outputs": [
        {
          "output_type": "execute_result",
          "data": {
            "text/plain": [
              "42"
            ]
          },
          "metadata": {},
          "execution_count": 20
        }
      ]
    },
    {
      "cell_type": "code",
      "source": [
        "#15. How do you get a list value's tuple form? How do you get a tuple value's list form?\n",
        "#ans - \n",
        "l1 = [2,3]\n",
        "l = tuple(l1)\n",
        "l"
      ],
      "metadata": {
        "colab": {
          "base_uri": "https://localhost:8080/"
        },
        "id": "fLc0HExca8FU",
        "outputId": "6b11afd4-3a63-4acf-93cc-f2170c7dfc95"
      },
      "execution_count": 21,
      "outputs": [
        {
          "output_type": "execute_result",
          "data": {
            "text/plain": [
              "(2, 3)"
            ]
          },
          "metadata": {},
          "execution_count": 21
        }
      ]
    },
    {
      "cell_type": "code",
      "source": [
        "t1 = (3,4)\n",
        "t = list(t1)\n",
        "t"
      ],
      "metadata": {
        "colab": {
          "base_uri": "https://localhost:8080/"
        },
        "id": "um_eA3OqbHVi",
        "outputId": "ee949630-937d-4c41-a4d6-3512eded6959"
      },
      "execution_count": 22,
      "outputs": [
        {
          "output_type": "execute_result",
          "data": {
            "text/plain": [
              "[3, 4]"
            ]
          },
          "metadata": {},
          "execution_count": 22
        }
      ]
    },
    {
      "cell_type": "code",
      "source": [
        "#16. Variables that \"contain\" list values are not necessarily lists themselves. Instead, what do they contain?\n",
        "#Ans. They contain references to list values"
      ],
      "metadata": {
        "id": "MxD425OhbJ0G"
      },
      "execution_count": null,
      "outputs": []
    },
    {
      "cell_type": "code",
      "source": [
        "#17. How do you distinguish between copy.copy() and copy.deepcopy()?\n",
        "#ans - \n",
        "The copy.copy() function will do a shallow copy of a list,\n",
        "The copy.deepcopy() function will do a deep copy of a list. only copy.deepcopy() will duplicate any lists inside the list\n",
        "A shallow copy constructs a new compound object and then (to the extent possible) inserts references into it to the objects found in the original.\n",
        "A deep copy constructs a new compound object and then, recursively, inserts copies into it of the objects found in the original.\n"
      ],
      "metadata": {
        "id": "WqvRkRq8bUz8"
      },
      "execution_count": null,
      "outputs": []
    }
  ]
}