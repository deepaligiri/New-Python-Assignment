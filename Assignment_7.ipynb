{
  "nbformat": 4,
  "nbformat_minor": 0,
  "metadata": {
    "colab": {
      "provenance": []
    },
    "kernelspec": {
      "name": "python3",
      "display_name": "Python 3"
    },
    "language_info": {
      "name": "python"
    }
  },
  "cells": [
    {
      "cell_type": "code",
      "execution_count": 2,
      "metadata": {
        "colab": {
          "base_uri": "https://localhost:8080/"
        },
        "id": "XVubVYaQBusi",
        "outputId": "6fca6e39-4ce2-4763-da9c-e232bbf4a708"
      },
      "outputs": [
        {
          "output_type": "execute_result",
          "data": {
            "text/plain": [
              "re.compile(r'deepali', re.UNICODE)"
            ]
          },
          "metadata": {},
          "execution_count": 2
        }
      ],
      "source": [
        "#1. What is the name of the feature responsible for generating Regex objects?\n",
        "#ans - \n",
        "import re\n",
        "re.compile(\"deepali\")\n",
        "#The re.compile() function returns Regex objects."
      ]
    },
    {
      "cell_type": "code",
      "source": [
        "#2. Why do raw strings often appear in Regex objects?\n",
        "#Ans . Raw strings are used so that backslashes do not have to be escaped"
      ],
      "metadata": {
        "id": "Im3jkNi9FTmq"
      },
      "execution_count": null,
      "outputs": []
    },
    {
      "cell_type": "code",
      "source": [
        "#3. What is the return value of the search() method?\n",
        "#Ans . The search() method searches a string for a specified value, and returns the position of the match.\n",
        "#The search value can be string or a regular expression. This method returns -1 if no match is found"
      ],
      "metadata": {
        "id": "dnqedytnFfb6"
      },
      "execution_count": 3,
      "outputs": []
    },
    {
      "cell_type": "code",
      "source": [
        "#4. From a Match item, how do you get the actual strings that match the pattern?\n",
        "#ans - \n",
        "phoneNumRegex = re.compile(r'\\d\\d\\d-\\d\\d\\d-\\d\\d\\d\\d')\n",
        "mo = phoneNumRegex.search('My number is 345-444-4542.')\n",
        "print('Phone number is: ' + mo.group())\n",
        "#Calling matchingObject.group() will return the string."
      ],
      "metadata": {
        "colab": {
          "base_uri": "https://localhost:8080/"
        },
        "id": "Y9ypa9dvFzIM",
        "outputId": "dbd56d8a-4a37-4790-cd81-468334c01d88"
      },
      "execution_count": 4,
      "outputs": [
        {
          "output_type": "stream",
          "name": "stdout",
          "text": [
            "Phone number is: 345-444-4542\n"
          ]
        }
      ]
    },
    {
      "cell_type": "code",
      "source": [
        "#5. In the regex which created from the r'(\\d\\d\\d)-(\\d\\d\\d-\\d\\d\\d\\d)', what does group zero cover? Group 2? Group 1?\n",
        "#ans - \n",
        "phoneNumRegex = re.compile(r'(\\d\\d\\d)-(\\d\\d\\d-\\d\\d\\d\\d)')\n",
        "mo = phoneNumRegex.search('My number is 345-444-4542.')\n",
        "print(mo.group(0))\n",
        "print(mo.group(1))\n",
        "print(mo.group(2))"
      ],
      "metadata": {
        "colab": {
          "base_uri": "https://localhost:8080/"
        },
        "id": "psPeMz6HGZd9",
        "outputId": "b27eed83-2722-4cdd-a20b-b57cf17c6851"
      },
      "execution_count": 5,
      "outputs": [
        {
          "output_type": "stream",
          "name": "stdout",
          "text": [
            "345-444-4542\n",
            "345\n",
            "444-4542\n"
          ]
        }
      ]
    },
    {
      "cell_type": "code",
      "source": [
        "#6. In standard expression syntax, parentheses and intervals have distinct meanings. \n",
        "#How can you tell a regex that you want it to fit real parentheses and periods?\n",
        "#Ans. Periods and parentheses can be escaped with a backslash: ., (, and )."
      ],
      "metadata": {
        "id": "ymcC78dKGzC3"
      },
      "execution_count": null,
      "outputs": []
    },
    {
      "cell_type": "code",
      "source": [
        "#7. The findall() method returns a string list or a list of string tuples. What causes it to return one of the two options?\n",
        "#ans - Ans. If the regex has no groups, a list of strings is returned. If the regex has groups, a list of tuples of strings is returned."
      ],
      "metadata": {
        "id": "VILlsExqHJXJ"
      },
      "execution_count": null,
      "outputs": []
    },
    {
      "cell_type": "code",
      "source": [
        "#8. In standard expressions, what does the | character mean?\n",
        "#Ans. \n",
        "The | character is called a pipe. You can use it anywhere you want to match one of many expressions.\n",
        "Ex., the regular expression r'Cricket|Soccer Sport' will match either 'Cricket' or 'Soccer Sport'.\n",
        "When both Cricket and Soccer Sport occur in the searched string, the first occurrence of matching text will be returned as the Match object.\n",
        "The | character signifies matching “either, or” between two groups"
      ],
      "metadata": {
        "id": "8yAzlGEqKdha"
      },
      "execution_count": null,
      "outputs": []
    },
    {
      "cell_type": "code",
      "source": [
        "SportRegex = re.compile (r'Cricket|Soccer Sport')\n",
        "s1 = SportRegex.search('Cricket and Soccer Sport')\n",
        "s1.group()"
      ],
      "metadata": {
        "colab": {
          "base_uri": "https://localhost:8080/",
          "height": 35
        },
        "id": "Evfqq2MuLExL",
        "outputId": "dd782755-46b0-4c29-e708-a57e5b2d9174"
      },
      "execution_count": 6,
      "outputs": [
        {
          "output_type": "execute_result",
          "data": {
            "text/plain": [
              "'Cricket'"
            ],
            "application/vnd.google.colaboratory.intrinsic+json": {
              "type": "string"
            }
          },
          "metadata": {},
          "execution_count": 6
        }
      ]
    },
    {
      "cell_type": "code",
      "source": [
        "s2 = SportRegex.search('Soccer Sport and Cricket')\n",
        "s2.group()"
      ],
      "metadata": {
        "colab": {
          "base_uri": "https://localhost:8080/",
          "height": 35
        },
        "id": "oYrml2L_LHRE",
        "outputId": "818edcc9-bf34-47c4-a917-ba809ce82dbb"
      },
      "execution_count": 7,
      "outputs": [
        {
          "output_type": "execute_result",
          "data": {
            "text/plain": [
              "'Soccer Sport'"
            ],
            "application/vnd.google.colaboratory.intrinsic+json": {
              "type": "string"
            }
          },
          "metadata": {},
          "execution_count": 7
        }
      ]
    },
    {
      "cell_type": "code",
      "source": [
        "#9. In regular expressions, what does the character stand for?\n",
        "#Ans. The ? character can either mean “match zero or one of the preceding group”."
      ],
      "metadata": {
        "id": "FIK9zwP7K15j"
      },
      "execution_count": null,
      "outputs": []
    },
    {
      "cell_type": "code",
      "source": [
        "#10.In regular expressions, what is the difference between the + and * characters?\n",
        "#Ans. The + matches one or more. The * matches zero or more"
      ],
      "metadata": {
        "id": "06bzle6PLb9O"
      },
      "execution_count": null,
      "outputs": []
    },
    {
      "cell_type": "code",
      "source": [
        "#11. What is the difference between {4} and {4,5} in regular expression?\n",
        "#ans - The {3} matches exactly three instances of the preceding group.\n",
        "The {3,5} matches between three and five instances"
      ],
      "metadata": {
        "id": "MZGmOiZhLtIi"
      },
      "execution_count": null,
      "outputs": []
    },
    {
      "cell_type": "code",
      "source": [
        "#12. What do you mean by the \\d, \\w, and \\s shorthand character classes signify in regular expressions?\n",
        "#ans - The \\d, stands for single digit, Any numeric digit from 0 to 9\n",
        "\\w, stands for single word, Any letter, numeric digit, or the underscore character. (Think of this as matching “word” characters.)\n",
        "\\s stands for single space character, Any space, tab, or newline character. (Think of this as matching “space” characters.)"
      ],
      "metadata": {
        "id": "184kchW3LzT3"
      },
      "execution_count": null,
      "outputs": []
    },
    {
      "cell_type": "code",
      "source": [
        "#13. What do means by \\D, \\W, and \\S shorthand character classes signify in regular expressions?\n",
        "#ans - \\D - > Any character that is not a numeric digit from 0 to 9.\n",
        "\\W - > Any character that is not a letter, numeric digit, or the underscore character.\n",
        "\\S - > Any character that is not a space, tab, or newline."
      ],
      "metadata": {
        "id": "rO52zheRMBcX"
      },
      "execution_count": null,
      "outputs": []
    },
    {
      "cell_type": "code",
      "source": [
        "#14. What is the difference between .*? and .*?\n",
        "#ans - \n",
        " .* - The dot-star uses greedy mode: It will always try to match as much text as possible.\n",
        ".? - To match any and all text in a non-greedy fashion, use the dot, star, and question mark (.?).\n",
        "Like with braces, the question mark tells Python to match in a non-greedy way."
      ],
      "metadata": {
        "id": "UgrTbIt2MLNL"
      },
      "execution_count": null,
      "outputs": []
    },
    {
      "cell_type": "code",
      "source": [
        "greedyRegex = re.compile(r'<.*>')\n",
        "mo = greedyRegex.search(' for dinner.>')\n",
        "mo.group()"
      ],
      "metadata": {
        "colab": {
          "base_uri": "https://localhost:8080/",
          "height": 201
        },
        "id": "XkGM72TNNmXq",
        "outputId": "9d56872f-3c66-4c85-e024-99337e28209a"
      },
      "execution_count": 10,
      "outputs": [
        {
          "output_type": "error",
          "ename": "AttributeError",
          "evalue": "ignored",
          "traceback": [
            "\u001b[0;31m---------------------------------------------------------------------------\u001b[0m",
            "\u001b[0;31mAttributeError\u001b[0m                            Traceback (most recent call last)",
            "\u001b[0;32m<ipython-input-10-d7545960a42b>\u001b[0m in \u001b[0;36m<cell line: 3>\u001b[0;34m()\u001b[0m\n\u001b[1;32m      1\u001b[0m \u001b[0mgreedyRegex\u001b[0m \u001b[0;34m=\u001b[0m \u001b[0mre\u001b[0m\u001b[0;34m.\u001b[0m\u001b[0mcompile\u001b[0m\u001b[0;34m(\u001b[0m\u001b[0;34mr'<.*>'\u001b[0m\u001b[0;34m)\u001b[0m\u001b[0;34m\u001b[0m\u001b[0;34m\u001b[0m\u001b[0m\n\u001b[1;32m      2\u001b[0m \u001b[0mmo\u001b[0m \u001b[0;34m=\u001b[0m \u001b[0mgreedyRegex\u001b[0m\u001b[0;34m.\u001b[0m\u001b[0msearch\u001b[0m\u001b[0;34m(\u001b[0m\u001b[0;34m' for dinner.>'\u001b[0m\u001b[0;34m)\u001b[0m\u001b[0;34m\u001b[0m\u001b[0;34m\u001b[0m\u001b[0m\n\u001b[0;32m----> 3\u001b[0;31m \u001b[0mmo\u001b[0m\u001b[0;34m.\u001b[0m\u001b[0mgroup\u001b[0m\u001b[0;34m(\u001b[0m\u001b[0;34m)\u001b[0m\u001b[0;34m\u001b[0m\u001b[0;34m\u001b[0m\u001b[0m\n\u001b[0m",
            "\u001b[0;31mAttributeError\u001b[0m: 'NoneType' object has no attribute 'group'"
          ]
        }
      ]
    },
    {
      "cell_type": "code",
      "source": [
        "nongreedyRegex = re.compile(r'<.*?>')\n",
        "mo = nongreedyRegex.search(' for dinner.>')\n",
        "mo.group()"
      ],
      "metadata": {
        "colab": {
          "base_uri": "https://localhost:8080/",
          "height": 201
        },
        "id": "spyy8xb0NqU0",
        "outputId": "38b1cb26-e9cb-4819-8ba4-66c88665efaa"
      },
      "execution_count": 11,
      "outputs": [
        {
          "output_type": "error",
          "ename": "AttributeError",
          "evalue": "ignored",
          "traceback": [
            "\u001b[0;31m---------------------------------------------------------------------------\u001b[0m",
            "\u001b[0;31mAttributeError\u001b[0m                            Traceback (most recent call last)",
            "\u001b[0;32m<ipython-input-11-d7f145bb0bca>\u001b[0m in \u001b[0;36m<cell line: 3>\u001b[0;34m()\u001b[0m\n\u001b[1;32m      1\u001b[0m \u001b[0mnongreedyRegex\u001b[0m \u001b[0;34m=\u001b[0m \u001b[0mre\u001b[0m\u001b[0;34m.\u001b[0m\u001b[0mcompile\u001b[0m\u001b[0;34m(\u001b[0m\u001b[0;34mr'<.*?>'\u001b[0m\u001b[0;34m)\u001b[0m\u001b[0;34m\u001b[0m\u001b[0;34m\u001b[0m\u001b[0m\n\u001b[1;32m      2\u001b[0m \u001b[0mmo\u001b[0m \u001b[0;34m=\u001b[0m \u001b[0mnongreedyRegex\u001b[0m\u001b[0;34m.\u001b[0m\u001b[0msearch\u001b[0m\u001b[0;34m(\u001b[0m\u001b[0;34m' for dinner.>'\u001b[0m\u001b[0;34m)\u001b[0m\u001b[0;34m\u001b[0m\u001b[0;34m\u001b[0m\u001b[0m\n\u001b[0;32m----> 3\u001b[0;31m \u001b[0mmo\u001b[0m\u001b[0;34m.\u001b[0m\u001b[0mgroup\u001b[0m\u001b[0;34m(\u001b[0m\u001b[0;34m)\u001b[0m\u001b[0;34m\u001b[0m\u001b[0;34m\u001b[0m\u001b[0m\n\u001b[0m",
            "\u001b[0;31mAttributeError\u001b[0m: 'NoneType' object has no attribute 'group'"
          ]
        }
      ]
    },
    {
      "cell_type": "code",
      "source": [
        "#15. What is the syntax for matching both numbers and lowercase letters with a character class?\n",
        "#ans - Either [0-9a-z] or [a-z0-9]"
      ],
      "metadata": {
        "id": "SKIMfFcfMdUD"
      },
      "execution_count": null,
      "outputs": []
    },
    {
      "cell_type": "code",
      "source": [
        "reg1 = re.compile(r'[0-9a-z]')\n",
        "reg2 = re.compile(r'[a-z0-9]')\n",
        "\n",
        "mo1 = reg1.search('100 times I am Reading  this for 100 th time')\n",
        "mo1.group()"
      ],
      "metadata": {
        "colab": {
          "base_uri": "https://localhost:8080/",
          "height": 35
        },
        "id": "UpYYlhUlNfJX",
        "outputId": "8cc1c0b3-5159-412f-b21d-40bbac39926b"
      },
      "execution_count": 8,
      "outputs": [
        {
          "output_type": "execute_result",
          "data": {
            "text/plain": [
              "'1'"
            ],
            "application/vnd.google.colaboratory.intrinsic+json": {
              "type": "string"
            }
          },
          "metadata": {},
          "execution_count": 8
        }
      ]
    },
    {
      "cell_type": "code",
      "source": [
        "reg2 = re.compile(r'[a-z0-9]')\n",
        "\n",
        "mo1 = reg2.search('times I am Reading  this for 100 th time')\n",
        "mo1.group()"
      ],
      "metadata": {
        "colab": {
          "base_uri": "https://localhost:8080/",
          "height": 35
        },
        "id": "3m9HIHhzNiUE",
        "outputId": "b8d71582-8835-464b-8161-15a8f320ea67"
      },
      "execution_count": 9,
      "outputs": [
        {
          "output_type": "execute_result",
          "data": {
            "text/plain": [
              "'t'"
            ],
            "application/vnd.google.colaboratory.intrinsic+json": {
              "type": "string"
            }
          },
          "metadata": {},
          "execution_count": 9
        }
      ]
    },
    {
      "cell_type": "code",
      "source": [
        "#16. What is the procedure for making a normal expression in regax case insensitive?\n",
        "#ans - Passing re.I or re.IGNORECASE as the second argument to re.compile() will make the matching case insensitive"
      ],
      "metadata": {
        "id": "9J9PoZ9KOgep"
      },
      "execution_count": null,
      "outputs": []
    },
    {
      "cell_type": "code",
      "source": [
        "casesen = re.compile(r'machine', re.I)\n",
        "casesen.search('Machine learning is part of data science').group()"
      ],
      "metadata": {
        "colab": {
          "base_uri": "https://localhost:8080/",
          "height": 35
        },
        "id": "5vsaQw0rOpNS",
        "outputId": "16d45ae0-79c8-4936-b9a0-8ffe51263139"
      },
      "execution_count": 14,
      "outputs": [
        {
          "output_type": "execute_result",
          "data": {
            "text/plain": [
              "'Machine'"
            ],
            "application/vnd.google.colaboratory.intrinsic+json": {
              "type": "string"
            }
          },
          "metadata": {},
          "execution_count": 14
        }
      ]
    },
    {
      "cell_type": "code",
      "source": [
        "casesen.search('MACHINE is learning.').group()"
      ],
      "metadata": {
        "colab": {
          "base_uri": "https://localhost:8080/",
          "height": 35
        },
        "id": "Sz0_SGoQOtXR",
        "outputId": "7ce895b9-a28b-490e-99e1-8738b64f20b4"
      },
      "execution_count": 15,
      "outputs": [
        {
          "output_type": "execute_result",
          "data": {
            "text/plain": [
              "'MACHINE'"
            ],
            "application/vnd.google.colaboratory.intrinsic+json": {
              "type": "string"
            }
          },
          "metadata": {},
          "execution_count": 15
        }
      ]
    },
    {
      "cell_type": "code",
      "source": [
        "#17. What does the . character normally match? What does it match if re.DOTALL is passed as 2nd argument in re.compile()?\n",
        "#Ans. The . character normally matches any character except the newline character.\n",
        "If re.DOTALL is passed as the second argument to re.compile(), then the dot will also match newline characters."
      ],
      "metadata": {
        "id": "cwGEDNKyM658"
      },
      "execution_count": null,
      "outputs": []
    },
    {
      "cell_type": "code",
      "source": [
        "casesen = re.compile(r'machine', re.I)\n",
        "casesen.search('Machine learning is part of data science').group()"
      ],
      "metadata": {
        "colab": {
          "base_uri": "https://localhost:8080/",
          "height": 35
        },
        "id": "8NCCH7gqOBIC",
        "outputId": "4bdbd7df-66ac-4ebb-b0d0-f38f8edd7fb0"
      },
      "execution_count": 12,
      "outputs": [
        {
          "output_type": "execute_result",
          "data": {
            "text/plain": [
              "'Machine'"
            ],
            "application/vnd.google.colaboratory.intrinsic+json": {
              "type": "string"
            }
          },
          "metadata": {},
          "execution_count": 12
        }
      ]
    },
    {
      "cell_type": "code",
      "source": [
        "casesen.search('MACHINE is learning.').group()"
      ],
      "metadata": {
        "colab": {
          "base_uri": "https://localhost:8080/",
          "height": 35
        },
        "id": "RSyh9uspOD0b",
        "outputId": "65c88e68-b6b1-48ac-893a-215d2dda6d1f"
      },
      "execution_count": 13,
      "outputs": [
        {
          "output_type": "execute_result",
          "data": {
            "text/plain": [
              "'MACHINE'"
            ],
            "application/vnd.google.colaboratory.intrinsic+json": {
              "type": "string"
            }
          },
          "metadata": {},
          "execution_count": 13
        }
      ]
    },
    {
      "cell_type": "code",
      "source": [
        "#18. If numReg = re.compile(r'\\d+'), what will numRegex.sub('X', '11 drummers, 10 pipers, five rings, 4 hen') return?\n",
        "#ans -\n",
        "numRegex = re.compile(r'\\d+')\n",
        "mo = numRegex.sub('X', '11 drummers, 10 pipers, five rings, 4 hen')\n",
        "mo"
      ],
      "metadata": {
        "colab": {
          "base_uri": "https://localhost:8080/",
          "height": 35
        },
        "id": "gSGr3BzfM7p1",
        "outputId": "b0991941-0fff-40aa-d0e1-c59b18286f5a"
      },
      "execution_count": 16,
      "outputs": [
        {
          "output_type": "execute_result",
          "data": {
            "text/plain": [
              "'X drummers, X pipers, five rings, X hen'"
            ],
            "application/vnd.google.colaboratory.intrinsic+json": {
              "type": "string"
            }
          },
          "metadata": {},
          "execution_count": 16
        }
      ]
    },
    {
      "cell_type": "code",
      "source": [
        "#19. What does passing re.VERBOSE as the 2nd argument to re.compile() allow to do?\n",
        "#Ans. The re.VERBOSE argument allows you to add whitespace and comments to the string passed to re.compile()"
      ],
      "metadata": {
        "id": "MMv5kHx0M9ga"
      },
      "execution_count": null,
      "outputs": []
    },
    {
      "cell_type": "code",
      "source": [
        "#20. How would you write a regex that match a number with comma for every three digits? It must match the given following:\n",
        "'42'\n",
        "'1,234'\n",
        "'6,368,745'\n",
        "but not the following:\n",
        "'12,34,567' (which has only two digits between the commas)\n",
        "'1234' (which lacks commas)"
      ],
      "metadata": {
        "id": "GcpLT4BsM_DO"
      },
      "execution_count": null,
      "outputs": []
    },
    {
      "cell_type": "code",
      "source": [
        "reg1 = re.compile(r'^\\d{1,3}(,\\d{3})*$')\n",
        "mo1 = reg1.search('42')\n",
        "mo1.group()"
      ],
      "metadata": {
        "colab": {
          "base_uri": "https://localhost:8080/",
          "height": 35
        },
        "id": "mQSsGgvQO84M",
        "outputId": "08438505-eaf7-4358-dfb7-1377f1bcd4dc"
      },
      "execution_count": 17,
      "outputs": [
        {
          "output_type": "execute_result",
          "data": {
            "text/plain": [
              "'42'"
            ],
            "application/vnd.google.colaboratory.intrinsic+json": {
              "type": "string"
            }
          },
          "metadata": {},
          "execution_count": 17
        }
      ]
    },
    {
      "cell_type": "code",
      "source": [
        "reg1 = re.compile(r'^\\d{1,3}(,\\d{3})*$')\n",
        "mo1 = reg1.search('1,234')\n",
        "mo1.group()"
      ],
      "metadata": {
        "colab": {
          "base_uri": "https://localhost:8080/",
          "height": 35
        },
        "id": "6dG6M_O-O_rV",
        "outputId": "15023967-1b50-4ba2-9832-f426777cbcbf"
      },
      "execution_count": 18,
      "outputs": [
        {
          "output_type": "execute_result",
          "data": {
            "text/plain": [
              "'1,234'"
            ],
            "application/vnd.google.colaboratory.intrinsic+json": {
              "type": "string"
            }
          },
          "metadata": {},
          "execution_count": 18
        }
      ]
    },
    {
      "cell_type": "code",
      "source": [
        "reg1 = re.compile(r'^\\d{1,3}(,\\d{3})*$')\n",
        "mo1 = reg1.search('6,368,745')\n",
        "mo1.group()"
      ],
      "metadata": {
        "colab": {
          "base_uri": "https://localhost:8080/",
          "height": 35
        },
        "id": "BcxnELJaPB20",
        "outputId": "1582e478-0144-47b5-ebc1-68c0bb73bfc4"
      },
      "execution_count": 19,
      "outputs": [
        {
          "output_type": "execute_result",
          "data": {
            "text/plain": [
              "'6,368,745'"
            ],
            "application/vnd.google.colaboratory.intrinsic+json": {
              "type": "string"
            }
          },
          "metadata": {},
          "execution_count": 19
        }
      ]
    },
    {
      "cell_type": "code",
      "source": [
        "#21. How would you write a regex that matches the full name of someone whose last name is Watanabe?\n",
        "You can assume that the first name that comes before it will always be one word that begins with a capital letter.\n",
        "The regex must match the following:\n",
        "'Haruto Watanabe'\n",
        "'Alice Watanabe'\n",
        "'RoboCop Watanabe'\n",
        "but not the following:\n",
        "'haruto Watanabe' (where the first name is not capitalized)\n",
        "'Mr. Watanabe' (where the preceding word has a nonletter character)\n",
        "'Watanabe' (which has no first name)\n",
        "'Haruto watanabe' (where Watanabe is not capitalized)"
      ],
      "metadata": {
        "id": "URQ-RzkVNDfi"
      },
      "execution_count": null,
      "outputs": []
    },
    {
      "cell_type": "code",
      "source": [
        "name = re.compile(r'[A-Z][a-z]*\\sWatanabe')\n",
        "reg1 = re.compile(r'^\\d{1,3}(,\\d{haruto Watanabe3})*$')\n",
        "mo1 = name.search('Haruto Watanabe')\n",
        "mo1.group()"
      ],
      "metadata": {
        "colab": {
          "base_uri": "https://localhost:8080/",
          "height": 35
        },
        "id": "Fo8dDKm9PFM5",
        "outputId": "ac6d230b-5d52-492d-d8b7-f33853f735ce"
      },
      "execution_count": 20,
      "outputs": [
        {
          "output_type": "execute_result",
          "data": {
            "text/plain": [
              "'Haruto Watanabe'"
            ],
            "application/vnd.google.colaboratory.intrinsic+json": {
              "type": "string"
            }
          },
          "metadata": {},
          "execution_count": 20
        }
      ]
    },
    {
      "cell_type": "code",
      "source": [
        "name = re.compile(r'[A-Z][a-z]*\\sWatanabe')\n",
        "reg1 = re.compile(r'^\\d{1,3}(,\\d{3})*$')\n",
        "mo1 = name.search('Alice Watanabe')\n",
        "mo1.group()"
      ],
      "metadata": {
        "colab": {
          "base_uri": "https://localhost:8080/",
          "height": 35
        },
        "id": "aCBsFcT2PH9j",
        "outputId": "e4495dbd-7bd7-45f3-a720-5d4473a281bb"
      },
      "execution_count": 21,
      "outputs": [
        {
          "output_type": "execute_result",
          "data": {
            "text/plain": [
              "'Alice Watanabe'"
            ],
            "application/vnd.google.colaboratory.intrinsic+json": {
              "type": "string"
            }
          },
          "metadata": {},
          "execution_count": 21
        }
      ]
    },
    {
      "cell_type": "code",
      "source": [
        "name = re.compile(r'[A-Z][a-z]*\\sWatanabe')\n",
        "reg1 = re.compile(r'^\\d{1,3}(,\\d{3})*$')\n",
        "mo1 = name.search('Robocop Watanabe')\n",
        "mo1.group()"
      ],
      "metadata": {
        "colab": {
          "base_uri": "https://localhost:8080/",
          "height": 35
        },
        "id": "jxUU6XuvPIBO",
        "outputId": "3d976405-74b0-4695-ac4f-ff5eebe20e7f"
      },
      "execution_count": 22,
      "outputs": [
        {
          "output_type": "execute_result",
          "data": {
            "text/plain": [
              "'Robocop Watanabe'"
            ],
            "application/vnd.google.colaboratory.intrinsic+json": {
              "type": "string"
            }
          },
          "metadata": {},
          "execution_count": 22
        }
      ]
    },
    {
      "cell_type": "code",
      "source": [
        "#22. How would you write a regex that matches a sentence where the first word is either Alice, Bob, or Carol; \n",
        "the second word is either eats, pets, or throws; the third word is apples, cats, or baseballs; and the sentence ends with a period? \n",
        "This regex should be case-insensitive. It must match the following:\n",
        "'Alice eats apples.'\n",
        "'Bob pets cats.'\n",
        "'Carol throws baseballs.'\n",
        "'Alice throws Apples.'\n",
        "'BOB EATS CATS.'\n",
        "but not the following:\n",
        "'RoboCop eats apples.'\n",
        "'ALICE THROWS FOOTBALLS.'\n",
        "'Carol eats 7 cats.'"
      ],
      "metadata": {
        "id": "XjICjGUeNMLD"
      },
      "execution_count": null,
      "outputs": []
    },
    {
      "cell_type": "code",
      "source": [
        "name = re.compile(r'(Alice|Bob|Carol)\\s(eats|pets|throws)\\s(apples|cats|baseballs)\\.', re.IGNORECASE)\n",
        "\n",
        "mo1 = name.search('Alice eats apples.')\n",
        "mo1.group()"
      ],
      "metadata": {
        "colab": {
          "base_uri": "https://localhost:8080/",
          "height": 35
        },
        "id": "hdD7AyFPPNdd",
        "outputId": "504820b9-09a4-49ab-e943-3d1fefc14fbb"
      },
      "execution_count": 23,
      "outputs": [
        {
          "output_type": "execute_result",
          "data": {
            "text/plain": [
              "'Alice eats apples.'"
            ],
            "application/vnd.google.colaboratory.intrinsic+json": {
              "type": "string"
            }
          },
          "metadata": {},
          "execution_count": 23
        }
      ]
    },
    {
      "cell_type": "code",
      "source": [
        "name = re.compile(r'(Alice|Bob|Carol)\\s(eats|pets|throws)\\s(apples|cats|baseballs)\\.', re.IGNORECASE)\n",
        "\n",
        "mo1 = name.search('Carol throws baseballs.')\n",
        "mo1.group()"
      ],
      "metadata": {
        "colab": {
          "base_uri": "https://localhost:8080/",
          "height": 35
        },
        "id": "j_E3neJSPNj9",
        "outputId": "29a317bd-8bd0-4011-de48-dd01bffaa85e"
      },
      "execution_count": 24,
      "outputs": [
        {
          "output_type": "execute_result",
          "data": {
            "text/plain": [
              "'Carol throws baseballs.'"
            ],
            "application/vnd.google.colaboratory.intrinsic+json": {
              "type": "string"
            }
          },
          "metadata": {},
          "execution_count": 24
        }
      ]
    }
  ]
}