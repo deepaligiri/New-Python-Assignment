{
  "nbformat": 4,
  "nbformat_minor": 0,
  "metadata": {
    "colab": {
      "provenance": []
    },
    "kernelspec": {
      "name": "python3",
      "display_name": "Python 3"
    },
    "language_info": {
      "name": "python"
    }
  },
  "cells": [
    {
      "cell_type": "code",
      "execution_count": null,
      "metadata": {
        "id": "PIAfstae-nJ2"
      },
      "outputs": [],
      "source": [
        "#1. What are escape characters, and how do you use them?\n",
        "#ans - \n",
        "In Python strings, the backslash \"\\\" is a special character, also called the \"escape\" character.\n",
        "It is used in representing certain whitespace characters:\n",
        "\"\\t\" is a tab, \"\\n\" is a newline, and \"\\r\" is a carriage return"
      ]
    },
    {
      "cell_type": "code",
      "source": [
        "print(\"my \\\n",
        "name \\\n",
        "is\")"
      ],
      "metadata": {
        "colab": {
          "base_uri": "https://localhost:8080/"
        },
        "id": "3N4JtSgA_eSB",
        "outputId": "1d68249d-ada9-4353-9585-6c6ebbc8bc7c"
      },
      "execution_count": 2,
      "outputs": [
        {
          "output_type": "stream",
          "name": "stdout",
          "text": [
            "my name is\n"
          ]
        }
      ]
    },
    {
      "cell_type": "code",
      "source": [
        "#2. What do the escape characters n and t stand for?\n",
        "#ans - \n",
        "\"\\t\" is a tab, \"\\n\" is a newline"
      ],
      "metadata": {
        "id": "0zYF17-C_e_M"
      },
      "execution_count": null,
      "outputs": []
    },
    {
      "cell_type": "code",
      "source": [
        "#3. What is the way to include backslash characters in a string?\n",
        "#ans - \n",
        "print('its a back slash \\ in a line')"
      ],
      "metadata": {
        "colab": {
          "base_uri": "https://localhost:8080/"
        },
        "id": "K2Drzkyq_vrp",
        "outputId": "c1fd38cd-699e-4283-a626-020e5e03ad11"
      },
      "execution_count": 3,
      "outputs": [
        {
          "output_type": "stream",
          "name": "stdout",
          "text": [
            "its a back slash \\ in a line\n"
          ]
        }
      ]
    },
    {
      "cell_type": "code",
      "source": [
        "#4. The string \"Howl's Moving Castle\" is a correct value. Why isn't the single quote character in the word Howl's not escaped a problem?\n",
        "#ans - \n",
        "The single quote in Howl's is fine because you've used double quotes to mark the beginning and end of the string.\n",
        "like wise we can use double quotes in with single quotes"
      ],
      "metadata": {
        "id": "d3wLGIlq_4NZ"
      },
      "execution_count": null,
      "outputs": []
    },
    {
      "cell_type": "code",
      "source": [
        "#5. How do you write a string of newlines if you don't want to use the n character?\n",
        "#ans - \n",
        "print(\"printing something in new line\",end = '\\n')\n",
        "print(\"newline\")"
      ],
      "metadata": {
        "colab": {
          "base_uri": "https://localhost:8080/"
        },
        "id": "O4Lo7jW7AIi2",
        "outputId": "53d4c180-de10-48f7-e91b-fd386271c38e"
      },
      "execution_count": 4,
      "outputs": [
        {
          "output_type": "stream",
          "name": "stdout",
          "text": [
            "printing something in new line\n",
            "newline\n"
          ]
        }
      ]
    },
    {
      "cell_type": "code",
      "source": [
        "#6. What are the values of the given expressions?\n",
        "print('Hello, world!'[1])\n",
        "print('Hello, world!'[0:5])\n",
        "print('Hello, world!'[:5])\n",
        "print('Hello, world!'[3:])"
      ],
      "metadata": {
        "colab": {
          "base_uri": "https://localhost:8080/"
        },
        "id": "lGKDCa4UAWBi",
        "outputId": "c8e14484-e18c-4ce8-c7db-81ca56c1d748"
      },
      "execution_count": 6,
      "outputs": [
        {
          "output_type": "stream",
          "name": "stdout",
          "text": [
            "e\n",
            "Hello\n",
            "Hello\n",
            "lo, world!\n"
          ]
        }
      ]
    },
    {
      "cell_type": "code",
      "source": [
        "#7. What are the values of the following expressions?\n",
        "print('Hello'.upper())\n",
        "print('Hello'.upper().isupper())\n",
        "print('Hello'.upper().lower())\n"
      ],
      "metadata": {
        "colab": {
          "base_uri": "https://localhost:8080/"
        },
        "id": "KXD6nyE6AdE-",
        "outputId": "0d530d09-4f8d-45bd-c012-b327ea5d5373"
      },
      "execution_count": 7,
      "outputs": [
        {
          "output_type": "stream",
          "name": "stdout",
          "text": [
            "HELLO\n",
            "True\n",
            "hello\n"
          ]
        }
      ]
    },
    {
      "cell_type": "code",
      "source": [
        "#8. What are the values of the following expressions?\n",
        "print('Remember, remember, the fifth of July.'.split())\n",
        "print('-'.join('There can only one.'.split()))\n"
      ],
      "metadata": {
        "colab": {
          "base_uri": "https://localhost:8080/"
        },
        "id": "QLu1p1SEAxOh",
        "outputId": "131a080b-cb00-4be6-850f-cb1c88a360c2"
      },
      "execution_count": 9,
      "outputs": [
        {
          "output_type": "stream",
          "name": "stdout",
          "text": [
            "['Remember,', 'remember,', 'the', 'fifth', 'of', 'July.']\n",
            "There-can-only-one.\n"
          ]
        }
      ]
    },
    {
      "cell_type": "code",
      "source": [
        "#9. What are the methods for right-justifying, left-justifying, and centering a string?"
      ],
      "metadata": {
        "id": "ShPiFJG_A4Nd"
      },
      "execution_count": null,
      "outputs": []
    },
    {
      "cell_type": "code",
      "source": [
        "# left justified\n",
        "str =\"Shiva\"\n",
        "str.ljust(10,\"-\")"
      ],
      "metadata": {
        "colab": {
          "base_uri": "https://localhost:8080/",
          "height": 35
        },
        "id": "hNsAxWwVBPdF",
        "outputId": "201e08ef-e327-4c27-9cc7-56f68b956be1"
      },
      "execution_count": 10,
      "outputs": [
        {
          "output_type": "execute_result",
          "data": {
            "text/plain": [
              "'Shiva-----'"
            ],
            "application/vnd.google.colaboratory.intrinsic+json": {
              "type": "string"
            }
          },
          "metadata": {},
          "execution_count": 10
        }
      ]
    },
    {
      "cell_type": "code",
      "source": [
        "# right justified\n",
        "str =\"My name is\"\n",
        "str.rjust(40,'*')"
      ],
      "metadata": {
        "colab": {
          "base_uri": "https://localhost:8080/",
          "height": 35
        },
        "id": "2aMlDGXJBPq_",
        "outputId": "f7d5c92a-58e9-4986-87bc-4b98fcd0b94d"
      },
      "execution_count": 11,
      "outputs": [
        {
          "output_type": "execute_result",
          "data": {
            "text/plain": [
              "'******************************My name is'"
            ],
            "application/vnd.google.colaboratory.intrinsic+json": {
              "type": "string"
            }
          },
          "metadata": {},
          "execution_count": 11
        }
      ]
    },
    {
      "cell_type": "code",
      "source": [
        "# center justified\n",
        "str =\"My name is\"\n",
        "str.center(40,'*')"
      ],
      "metadata": {
        "colab": {
          "base_uri": "https://localhost:8080/",
          "height": 35
        },
        "id": "VHOmMl3gBSee",
        "outputId": "f36d9614-94c8-47c2-c970-2e19602d496f"
      },
      "execution_count": 12,
      "outputs": [
        {
          "output_type": "execute_result",
          "data": {
            "text/plain": [
              "'***************My name is***************'"
            ],
            "application/vnd.google.colaboratory.intrinsic+json": {
              "type": "string"
            }
          },
          "metadata": {},
          "execution_count": 12
        }
      ]
    },
    {
      "cell_type": "code",
      "source": [
        "#10. What is the best way to remove whitespace characters from the start or end?\n",
        "#ans - \n",
        "str =\"  gfgfgfgfgfgfgf yuyuyuuyuy  \"\n",
        "str.strip()"
      ],
      "metadata": {
        "colab": {
          "base_uri": "https://localhost:8080/",
          "height": 35
        },
        "id": "Fwc1ddYMBUzE",
        "outputId": "cecf5903-800b-4183-9fc5-1070500cd118"
      },
      "execution_count": 14,
      "outputs": [
        {
          "output_type": "execute_result",
          "data": {
            "text/plain": [
              "'gfgfgfgfgfgfgf yuyuyuuyuy'"
            ],
            "application/vnd.google.colaboratory.intrinsic+json": {
              "type": "string"
            }
          },
          "metadata": {},
          "execution_count": 14
        }
      ]
    }
  ]
}