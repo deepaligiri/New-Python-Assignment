{
  "nbformat": 4,
  "nbformat_minor": 0,
  "metadata": {
    "colab": {
      "provenance": []
    },
    "kernelspec": {
      "name": "python3",
      "display_name": "Python 3"
    },
    "language_info": {
      "name": "python"
    }
  },
  "cells": [
    {
      "cell_type": "code",
      "execution_count": null,
      "metadata": {
        "id": "NSsZRMDL8aw6"
      },
      "outputs": [],
      "source": [
        "#1. Why are functions advantageous to have in your programs?\n",
        "#ans - \n",
        "Functions reduce the need for duplicate code. This makes programs shorter, easier to read, and easier to update."
      ]
    },
    {
      "cell_type": "code",
      "source": [
        "#2. When does the code in a function run: when it's specified or when it's called?\n",
        "#ans - Code in the function runs when the function is called"
      ],
      "metadata": {
        "id": "Cdqf0onPCeGm"
      },
      "execution_count": null,
      "outputs": []
    },
    {
      "cell_type": "code",
      "source": [
        "#3. What statement creates a function?\n",
        "#ans - The 'def' statement defines (i.e. creates) a function.\n",
        "Eg .\n",
        "def my_func():\n",
        "pass"
      ],
      "metadata": {
        "id": "dqkdbWZSCoVv"
      },
      "execution_count": null,
      "outputs": []
    },
    {
      "cell_type": "code",
      "source": [
        "#4. What is the difference between a function and a function call?\n",
        "#ans - \n",
        "#def of func\n",
        "def my_func(): \n",
        "    pass \n",
        "my_func() #calling of function"
      ],
      "metadata": {
        "id": "6-BHI1dbCxGN"
      },
      "execution_count": 1,
      "outputs": []
    },
    {
      "cell_type": "code",
      "source": [
        "A function consists of the def statement and the code in its def clause.\n",
        "A function call is what moves the program execution into the function, and the function call evaluates to the function's return value."
      ],
      "metadata": {
        "id": "OaiLvosmC6y3"
      },
      "execution_count": null,
      "outputs": []
    },
    {
      "cell_type": "code",
      "source": [
        "#5. How many global scopes are there in a Python program? How many local scopes?\n",
        "#ans - \n",
        "There's only one global Python scope per program execution. This scope remains in existence until the program terminates , \n",
        "and a local scope is created whenever a function is called."
      ],
      "metadata": {
        "id": "d5wuURAFDB2f"
      },
      "execution_count": null,
      "outputs": []
    },
    {
      "cell_type": "code",
      "source": [
        "#6. What happens to variables in a local scope when the function call returns?\n",
        "#ans - \n",
        "When a function returns, the local scope is destroyed."
      ],
      "metadata": {
        "id": "9RfYGsFAVDWm"
      },
      "execution_count": null,
      "outputs": []
    },
    {
      "cell_type": "code",
      "source": [
        "#7. What is the concept of a return value? Is it possible to have a return value in an expression?\n",
        "#ans - \n",
        "A return value is the value that a function call evaluates to. Like any value, a return value can be used as part of an expression"
      ],
      "metadata": {
        "id": "LjNrfQsSVLKB"
      },
      "execution_count": null,
      "outputs": []
    },
    {
      "cell_type": "code",
      "source": [
        "#8. If a function does not have a return statement, what is the return value of a call to that function?\n",
        "#ans - \n",
        "If the funtion does not have a return statement it will not return anything."
      ],
      "metadata": {
        "id": "rpOSVW_7Vd7W"
      },
      "execution_count": null,
      "outputs": []
    },
    {
      "cell_type": "code",
      "source": [
        "#9. How do you make a function variable refer to the global variable?\n",
        "#ans - To make function variable as a global variable you can use the global keyword to declare which variables are global."
      ],
      "metadata": {
        "id": "OgA8R-G5Vo0O"
      },
      "execution_count": null,
      "outputs": []
    },
    {
      "cell_type": "code",
      "source": [
        "#10. What is the data type of None?\n",
        "#ans - The data type of None is NoneType."
      ],
      "metadata": {
        "id": "A7w8GQBpVzgX"
      },
      "execution_count": null,
      "outputs": []
    },
    {
      "cell_type": "code",
      "source": [
        "#11. What does the sentence import areallyourpetsnamederic do?\n",
        "#Ans .That import statement imports a module named areallyourpetsnamederic. (But a module of this name doesnt exists in Python)"
      ],
      "metadata": {
        "id": "YdbV6zqfV6nN"
      },
      "execution_count": null,
      "outputs": []
    },
    {
      "cell_type": "code",
      "source": [
        "#12. If you had a bacon() feature in a spam module, what would you call it after importing spam?\n",
        "#Ans .import spam\n",
        "spam.bacon()"
      ],
      "metadata": {
        "id": "7-oLEA1RWD-U"
      },
      "execution_count": null,
      "outputs": []
    },
    {
      "cell_type": "code",
      "source": [
        "#13. What can you do to save a programme from crashing if it encounters an error?\n",
        "#We can use try except clause to save a program from crashing."
      ],
      "metadata": {
        "id": "GuWT219GWKLY"
      },
      "execution_count": null,
      "outputs": []
    },
    {
      "cell_type": "code",
      "source": [
        "#14. What is the purpose of the try clause? What is the purpose of the except clause?\n",
        "#Ans - Try and Except clause is used to handle the errors within our code . The try block is used to check some code for errors i.e the code inside the try block will execute when there is no error in the program. Whereas the code inside the except block will execute whenever the program encounters some error in the try block.\n",
        "\n",
        "Eg. try:\n",
        "# Code\n",
        "except:\n",
        "# Executed if error in the\n",
        "# try block"
      ],
      "metadata": {
        "id": "8GqtLHyQWPss"
      },
      "execution_count": null,
      "outputs": []
    }
  ]
}