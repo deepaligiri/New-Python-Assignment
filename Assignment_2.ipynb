{
  "nbformat": 4,
  "nbformat_minor": 0,
  "metadata": {
    "colab": {
      "provenance": []
    },
    "kernelspec": {
      "name": "python3",
      "display_name": "Python 3"
    },
    "language_info": {
      "name": "python"
    }
  },
  "cells": [
    {
      "cell_type": "code",
      "execution_count": null,
      "metadata": {
        "id": "nMtlzXSVv9-l"
      },
      "outputs": [],
      "source": [
        "#1.What are the two values of the Boolean data type? How do you write them?\n",
        "#ans - \n",
        "Two values are \"True\" & \"False\" which are special versions of 1 and 0 respectively and behave as such in arithmetic contexts.\n",
        "Capitalization is important, since true and false are not boolean values (remember Python is case sensitive).\n",
        "Ex. a=True\n",
        "b=False\n",
        "print(a)\n",
        "print(b)"
      ]
    },
    {
      "cell_type": "code",
      "source": [
        "#2. What are the three different types of Boolean operators?\n",
        "#ans - \n",
        "There are three logical operators that are used to compare values. \n",
        "They evaluate expressions down to Boolean values, returning either True or False . \n",
        "These operators are and , or , and not and are defined in the table below"
      ],
      "metadata": {
        "id": "vFCrjJizxgd-"
      },
      "execution_count": null,
      "outputs": []
    },
    {
      "cell_type": "code",
      "source": [
        "#3. Make a list of each Boolean operator's truth tables\n",
        "(i.e. every possible combination of Boolean values for the operator and what it evaluate ).\n",
        "#ans - :\n",
        "True and True=True\n",
        "True and False= False\n",
        "True or False = True\n",
        "False or False = False "
      ],
      "metadata": {
        "id": "dDD2KfYPxvDu"
      },
      "execution_count": null,
      "outputs": []
    },
    {
      "cell_type": "code",
      "source": [
        "#4. What are the values of the following expressions?\n",
        "#ans - \n",
        "(5 > 4) and (3 == 5) - False\n",
        "not (5 > 4) - False\n",
        "(5 > 4) or (3 == 5) - True\n",
        "not ((5 > 4) or (3 == 5)) - False\n",
        "(True and True) and (True == False) - False\n",
        "(not False) or (not True) - True"
      ],
      "metadata": {
        "id": "i9YywO940wzZ"
      },
      "execution_count": null,
      "outputs": []
    },
    {
      "cell_type": "code",
      "source": [
        "#5. What are the six comparison operators?\n",
        "#ans - \n",
        "==\n",
        "!=\n",
        "<\n",
        "<"
      ],
      "metadata": {
        "id": "jraOY4mB02gI"
      },
      "execution_count": null,
      "outputs": []
    },
    {
      "cell_type": "code",
      "source": [
        "#6. How do you tell the difference between the equal to and assignment operators?\n",
        "Describe a condition and when you would use one.\n",
        "#ans - \n",
        "= is an Assignment Operator it is used to assign the value of variable or expression,\n",
        "while ==is an Equal to Operator and it is a relation operator used for comparison (to compare value of both left and right side operands)"
      ],
      "metadata": {
        "id": "BKLoCxtW1fZU"
      },
      "execution_count": null,
      "outputs": []
    },
    {
      "cell_type": "code",
      "source": [
        "#Ex.\n",
        "\n",
        "# Equal To Operator\n",
        "if(2==3):\n",
        "    print(\"True\")\n",
        "else:\n",
        "    print(\"False\")\n",
        "#Assignment operator\n",
        "c=1 #here we have used assignment operator(=) to assign value of c which is 1\n",
        "print(\"c =\",c)"
      ],
      "metadata": {
        "id": "VbYoUrZL2jxT"
      },
      "execution_count": null,
      "outputs": []
    },
    {
      "cell_type": "code",
      "source": [
        "#7. Identify the three blocks in this code:\n",
        "spam = 0\n",
        "if spam == 10:\n",
        "  print('eggs') #Block 1\n",
        "if spam > 5:\n",
        "  print('bacon') #Block 2\n",
        "else:\n",
        "  print('ham') #Block 3\n",
        "  print('spam')\n",
        "  print('spam')\n"
      ],
      "metadata": {
        "colab": {
          "base_uri": "https://localhost:8080/"
        },
        "id": "4sKWnS7h17lH",
        "outputId": "6cd7007e-040a-4331-b478-a967157c490e"
      },
      "execution_count": 15,
      "outputs": [
        {
          "output_type": "stream",
          "name": "stdout",
          "text": [
            "ham\n",
            "spam\n",
            "spam\n"
          ]
        }
      ]
    },
    {
      "cell_type": "code",
      "source": [
        "#8. Write code that prints Hello if 1 is stored in spam, prints Howdy if 2 is stored in spam, and prints Greetings!\n",
        "#if anything else is stored in spam.\n",
        "#ans - \n",
        "Spam=int(input(\"Enter a number: \"))\n",
        "if Spam==1:\n",
        "  print(\"Hello\")\n",
        "elif Spam==2:\n",
        "  print(\"Howdy\")\n",
        "else:\n",
        "  print(\"Greetings!\")\n"
      ],
      "metadata": {
        "colab": {
          "base_uri": "https://localhost:8080/"
        },
        "id": "Skba8tLn2t8u",
        "outputId": "8daabb09-7848-4837-ba61-5691453743df"
      },
      "execution_count": 18,
      "outputs": [
        {
          "output_type": "stream",
          "name": "stdout",
          "text": [
            "Enter a number: 2\n",
            "Howdy\n"
          ]
        }
      ]
    },
    {
      "cell_type": "code",
      "source": [
        "#9.If your programme is stuck in an endless loop, what keys you’ll press?\n",
        "#ans - If program is stuck in endless loop we will press ctrl+c."
      ],
      "metadata": {
        "id": "F6rsBC5Z2CpJ"
      },
      "execution_count": null,
      "outputs": []
    },
    {
      "cell_type": "code",
      "source": [
        "#10. How can you tell the difference between break and continue?\n",
        "#ans - \n",
        "Break:A break statement in Python alters the flow of a loop by terminating it once a specified condition is met. \n",
        "Continue: The continue statement in Python is used to skip the remaining code inside a loop for the current iteration only"
      ],
      "metadata": {
        "id": "LXwaS9p73vRp"
      },
      "execution_count": null,
      "outputs": []
    },
    {
      "cell_type": "code",
      "source": [
        "#Ex.\n",
        "# use of break\n",
        "for i in range(10):\n",
        "    if(i==7):\n",
        "        break\n",
        "    print(i)"
      ],
      "metadata": {
        "colab": {
          "base_uri": "https://localhost:8080/"
        },
        "id": "7IzDXXLY4MQi",
        "outputId": "e7671e0d-66ee-41d7-893f-96316635faac"
      },
      "execution_count": 20,
      "outputs": [
        {
          "output_type": "stream",
          "name": "stdout",
          "text": [
            "0\n",
            "1\n",
            "2\n",
            "3\n",
            "4\n",
            "5\n",
            "6\n"
          ]
        }
      ]
    },
    {
      "cell_type": "code",
      "source": [
        "#use of  continue\n",
        "for i in range(10):\n",
        "    if(i==7):\n",
        "        continue\n",
        "    print(i)\n",
        "    "
      ],
      "metadata": {
        "colab": {
          "base_uri": "https://localhost:8080/"
        },
        "id": "IY1y036y4Pm0",
        "outputId": "d291c677-0558-41da-aa9b-435ff4d5dd86"
      },
      "execution_count": 21,
      "outputs": [
        {
          "output_type": "stream",
          "name": "stdout",
          "text": [
            "Breaked\n",
            "0\n",
            "1\n",
            "2\n",
            "3\n",
            "4\n",
            "5\n",
            "6\n",
            "8\n",
            "9\n"
          ]
        }
      ]
    },
    {
      "cell_type": "code",
      "source": [
        "#11. In a for loop, what is the difference between range(10), range(0, 10), and range(0, 10, 1)?\n",
        "#ans - \n",
        "The range(10) call ranges from 0 up to (but not including) 10, \n",
        "range(0, 10) tells the loop to start at 0, and \n",
        "range(0, 10, 1) tells the loop to increase the variable by 1 on each iteration."
      ],
      "metadata": {
        "id": "huuU0qmp4UIS"
      },
      "execution_count": null,
      "outputs": []
    },
    {
      "cell_type": "code",
      "source": [
        "for i in range(5):\n",
        "    print(i)\n",
        "print(\"xxxxxxxxxxxxxxxxxxx\") \n",
        "for i in range(0,5):\n",
        "    print(i)\n",
        "print(\"xxxxxxxxxxxxxxxxxxx\")\n",
        "for i in range(0,5,2):\n",
        "    print(i)"
      ],
      "metadata": {
        "colab": {
          "base_uri": "https://localhost:8080/"
        },
        "id": "xtG-r42H4yEr",
        "outputId": "8dc90ecd-0a6b-48f8-ecfd-c33e9b25327d"
      },
      "execution_count": 24,
      "outputs": [
        {
          "output_type": "stream",
          "name": "stdout",
          "text": [
            "0\n",
            "1\n",
            "2\n",
            "3\n",
            "4\n",
            "xxxxxxxxxxxxxxxxxxx\n",
            "0\n",
            "1\n",
            "2\n",
            "3\n",
            "4\n",
            "xxxxxxxxxxxxxxxxxxx\n",
            "0\n",
            "2\n",
            "4\n"
          ]
        }
      ]
    },
    {
      "cell_type": "code",
      "source": [
        "#12. Write a short program that prints the numbers 1 to 10 using a for loop. \n",
        "#Then write an equivalent program that prints the numbers 1 to 10 using a while loop.\n",
        "#ans - \n",
        "for i in range(1,11):\n",
        "  print(i)"
      ],
      "metadata": {
        "colab": {
          "base_uri": "https://localhost:8080/"
        },
        "id": "5kM-hjK94275",
        "outputId": "18e050aa-1401-4f5a-e90a-9628d4d33316"
      },
      "execution_count": 33,
      "outputs": [
        {
          "output_type": "stream",
          "name": "stdout",
          "text": [
            "1\n",
            "2\n",
            "3\n",
            "4\n",
            "5\n",
            "6\n",
            "7\n",
            "8\n",
            "9\n",
            "10\n"
          ]
        }
      ]
    },
    {
      "cell_type": "code",
      "source": [
        "i=1\n",
        "while i<=10:\n",
        "  print(i)\n",
        "  i=i+1"
      ],
      "metadata": {
        "colab": {
          "base_uri": "https://localhost:8080/"
        },
        "id": "XESjzYPu5Xzj",
        "outputId": "bc42d925-3469-427e-e1af-d3898d5682ba"
      },
      "execution_count": 35,
      "outputs": [
        {
          "output_type": "stream",
          "name": "stdout",
          "text": [
            "1\n",
            "2\n",
            "3\n",
            "4\n",
            "5\n",
            "6\n",
            "7\n",
            "8\n",
            "9\n",
            "10\n"
          ]
        }
      ]
    },
    {
      "cell_type": "code",
      "source": [
        "#13. If you had a function named bacon() inside a module named spam, how would you call it after importing spam?\n",
        "#ans - \n",
        "This function can be called with spam.bacon()."
      ],
      "metadata": {
        "id": "wEQbX6G65p-G"
      },
      "execution_count": null,
      "outputs": []
    }
  ]
}